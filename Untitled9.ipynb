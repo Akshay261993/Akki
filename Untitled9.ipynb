{
 "cells": [
  {
   "cell_type": "code",
   "execution_count": 1,
   "metadata": {},
   "outputs": [
    {
     "name": "stdout",
     "output_type": "stream",
     "text": [
      "enter the number10\n",
      "enter the number30\n",
      "enter the number50\n",
      "c is greater\n"
     ]
    }
   ],
   "source": [
    "a=int(input('enter the number'))\n",
    "b=int(input('enter the number'))\n",
    "c=int(input('enter the number'))\n",
    "if a>=b:\n",
    "    if a>=c:\n",
    "         print(\"a is greater\")\n",
    "    else:\n",
    "        print(\"c is greater\")\n",
    "elif b>c:\n",
    "    print(\"b is greater\")\n",
    "else:\n",
    "    print(\"c is greater\")"
   ]
  },
  {
   "cell_type": "code",
   "execution_count": 2,
   "metadata": {},
   "outputs": [
    {
     "name": "stdout",
     "output_type": "stream",
     "text": [
      "enter your age :19\n",
      "press 1 for government\n",
      "press 2 for private\n",
      "enter your number1\n",
      "perfect for government\n"
     ]
    }
   ],
   "source": [
    "age=int(input('enter your age :'))\n",
    "if age > 18:\n",
    "    print('press 1 for government')\n",
    "    print('press 2 for private')\n",
    "    a=int(input('enter your number'))\n",
    "    if a==1:\n",
    "        print('perfect for government')\n",
    "    elif b==2:\n",
    "        print('perfect for private')\n",
    "    else:\n",
    "        print('please  enter appropriate values')\n",
    "else:\n",
    "    print('abhi chote ho janab')"
   ]
  },
  {
   "cell_type": "code",
   "execution_count": null,
   "metadata": {},
   "outputs": [],
   "source": []
  }
 ],
 "metadata": {
  "kernelspec": {
   "display_name": "Python 3",
   "language": "python",
   "name": "python3"
  },
  "language_info": {
   "codemirror_mode": {
    "name": "ipython",
    "version": 3
   },
   "file_extension": ".py",
   "mimetype": "text/x-python",
   "name": "python",
   "nbconvert_exporter": "python",
   "pygments_lexer": "ipython3",
   "version": "3.6.5"
  }
 },
 "nbformat": 4,
 "nbformat_minor": 2
}
