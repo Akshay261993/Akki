{
 "cells": [
  {
   "cell_type": "code",
   "execution_count": 9,
   "metadata": {},
   "outputs": [
    {
     "name": "stdout",
     "output_type": "stream",
     "text": [
      "enter the month number:7\n",
      "before month   jan feb mar april may june\n",
      "your given month is july\n"
     ]
    }
   ],
   "source": [
    "mon=['jan','feb','mar','april','may','june','july','aug','sep','oct','nov','dec']\n",
    "n=int(input('enter the month number:'))\n",
    "if n>=1 and n<=12:\n",
    "    print('before month  ',*mon[:n-1])\n",
    "    print('your given month is',mon[n-1])\n",
    "else:\n",
    "    print('please enter a valid input')"
   ]
  },
  {
   "cell_type": "code",
   "execution_count": null,
   "metadata": {},
   "outputs": [],
   "source": [
    "\n"
   ]
  },
  {
   "cell_type": "code",
   "execution_count": null,
   "metadata": {},
   "outputs": [],
   "source": []
  }
 ],
 "metadata": {
  "kernelspec": {
   "display_name": "Python 3",
   "language": "python",
   "name": "python3"
  },
  "language_info": {
   "codemirror_mode": {
    "name": "ipython",
    "version": 3
   },
   "file_extension": ".py",
   "mimetype": "text/x-python",
   "name": "python",
   "nbconvert_exporter": "python",
   "pygments_lexer": "ipython3",
   "version": "3.6.5"
  }
 },
 "nbformat": 4,
 "nbformat_minor": 2
}
