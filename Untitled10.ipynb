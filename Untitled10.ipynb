{
 "cells": [
  {
   "cell_type": "code",
   "execution_count": 7,
   "metadata": {},
   "outputs": [
    {
     "name": "stdout",
     "output_type": "stream",
     "text": [
      "enter your age :20\n",
      "press 1 for government\n",
      "press 2 for private\n",
      "enter your number2\n",
      "perfect for private\n"
     ]
    }
   ],
   "source": [
    "age=int(input('enter your age :'))\n",
    "if age > 18:\n",
    "    print('press 1 for government')\n",
    "    print('press 2 for private')\n",
    "    a=int(input('enter your number'))\n",
    "    if a==1:\n",
    "        print('perfect for government')\n",
    "    elif b==2:\n",
    "        print('perfect for private')\n",
    "    else:\n",
    "        print('please  enter appropriate values')\n",
    "else:\n",
    "    print('abhi chote ho janab')"
   ]
  },
  {
   "cell_type": "code",
   "execution_count": 10,
   "metadata": {},
   "outputs": [
    {
     "name": "stdout",
     "output_type": "stream",
     "text": [
      "enter a number:16\n",
      "your number is odd\n"
     ]
    }
   ],
   "source": [
    "num=int(input('enter a number:'))\n",
    "if num %2==0:\n",
    "    print('your number is odd')\n",
    "else:\n",
    "    print('your number is even')"
   ]
  },
  {
   "cell_type": "code",
   "execution_count": 12,
   "metadata": {},
   "outputs": [
    {
     "name": "stdout",
     "output_type": "stream",
     "text": [
      "enter foo or barf  o  o\n",
      "bar\n"
     ]
    }
   ],
   "source": [
    "f=input('enter foo or bar').strip().lower()\n",
    "f=''.join(f.split())\n",
    "if f=='foo':\n",
    "    print('bar')\n",
    "elif f=='bar':\n",
    "    print('foo')\n",
    "else:\n",
    "    print('plz give a valid input')"
   ]
  },
  {
   "cell_type": "code",
   "execution_count": null,
   "metadata": {},
   "outputs": [],
   "source": []
  }
 ],
 "metadata": {
  "kernelspec": {
   "display_name": "Python 3",
   "language": "python",
   "name": "python3"
  },
  "language_info": {
   "codemirror_mode": {
    "name": "ipython",
    "version": 3
   },
   "file_extension": ".py",
   "mimetype": "text/x-python",
   "name": "python",
   "nbconvert_exporter": "python",
   "pygments_lexer": "ipython3",
   "version": "3.6.5"
  }
 },
 "nbformat": 4,
 "nbformat_minor": 2
}
